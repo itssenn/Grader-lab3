{
 "cells": [
  {
   "cell_type": "markdown",
   "metadata": {
    "deletable": false,
    "editable": false,
    "id": "D-DqQ4bE_qbP",
    "nbgrader": {
     "cell_type": "markdown",
     "checksum": "f9213fafab8cf66a1ce3ab15884baa66",
     "grade": false,
     "grade_id": "cell-dbf37dcea5d7dc5c",
     "locked": true,
     "schema_version": 3,
     "solution": false,
     "task": false
    }
   },
   "source": [
    "## Q2\n",
    "จงเขียนโปรแกรมที่วนรับชื่อผู้ใช้จนกว่าจะเป็น Lisa หรือใส่ชื่อผิดครบ 3 ครั้ง"
   ]
  },
  {
   "cell_type": "markdown",
   "metadata": {
    "deletable": false,
    "editable": false,
    "id": "VKSE_vwz_qbR",
    "nbgrader": {
     "cell_type": "markdown",
     "checksum": "2693f84fb4657b17db4627b1b5da9074",
     "grade": false,
     "grade_id": "cell-7ae57c7b0fc2869d",
     "locked": true,
     "schema_version": 3,
     "solution": false,
     "task": false
    }
   },
   "source": [
    "### ตัวอย่างการทำงาน:\n",
    "\n",
    "Enter username : **Lisa** <br>\n",
    "Hello, Lisa"
   ]
  },
  {
   "cell_type": "markdown",
   "metadata": {
    "deletable": false,
    "editable": false,
    "id": "cLFFfgNZ_qbS",
    "nbgrader": {
     "cell_type": "markdown",
     "checksum": "2077d24a4ae42bdfd0736e3bdcfad20d",
     "grade": false,
     "grade_id": "cell-89fa11d51cba8b35",
     "locked": true,
     "schema_version": 3,
     "solution": false,
     "task": false
    }
   },
   "source": [
    "### ตัวอย่างการทำงาน:\n",
    "\n",
    "Enter username : **test** <br>\n",
    "Incorrect. Enter again : **Lisa** <br>\n",
    "Hello, Lisa"
   ]
  },
  {
   "cell_type": "markdown",
   "metadata": {
    "deletable": false,
    "editable": false,
    "id": "mTE21bGQ_qbS",
    "nbgrader": {
     "cell_type": "markdown",
     "checksum": "31296043ace7809c14d71479920b10da",
     "grade": false,
     "grade_id": "cell-8d6f849a001e7146",
     "locked": true,
     "schema_version": 3,
     "solution": false,
     "task": false
    }
   },
   "source": [
    "### ตัวอย่างการทำงาน:\n",
    "\n",
    "Enter username : **test** <br>\n",
    "Incorrect. Enter again : **12345**  <br>\n",
    "Incorrect. Enter again : **Lisa** <br>\n",
    "Hello, Lisa"
   ]
  },
  {
   "cell_type": "markdown",
   "metadata": {
    "deletable": false,
    "editable": false,
    "id": "Ywp4w6Bw_qbS",
    "nbgrader": {
     "cell_type": "markdown",
     "checksum": "f7a5474826f383815d379ab8a59530e3",
     "grade": false,
     "grade_id": "cell-1b10c564484fa711",
     "locked": true,
     "schema_version": 3,
     "solution": false,
     "task": false
    }
   },
   "source": [
    "### ตัวอย่างการทำงาน:\n",
    "\n",
    "Enter username : **test**  <br>\n",
    "Incorrect. Enter again : **12345**  <br>\n",
    "Incorrect. Enter again : **my name** <br>\n",
    "Not allowed. Incorrect name."
   ]
  },
  {
   "cell_type": "code",
   "execution_count": 134,
   "metadata": {
    "deletable": false,
    "executionInfo": {
     "elapsed": 386,
     "status": "ok",
     "timestamp": 1724648185998,
     "user": {
      "displayName": "Peerawut Sakdapipanich",
      "userId": "12226163692765599744"
     },
     "user_tz": -420
    },
    "id": "Y_1Yd94X_qbS",
    "nbgrader": {
     "cell_type": "code",
     "checksum": "b200d6e6b1dcb53db9c7782614ea5d49",
     "grade": false,
     "grade_id": "name",
     "locked": false,
     "schema_version": 3,
     "solution": true
    }
   },
   "outputs": [],
   "source": [
    "def run():\n",
    "    name = str(input('Enter username :'))\n",
    "    n = 0\n",
    "    while n < 2 :\n",
    "        if name == 'Lisa' :\n",
    "            print('Hello, Lisa')\n",
    "            break\n",
    "        elif name != 'Lisa' :\n",
    "            name = str(input('Incorrect. Enter again :'))\n",
    "        n += 1\n",
    "    if n == 2:\n",
    "        if name == 'Lisa' :\n",
    "            print('Hello, Lisa')\n",
    "        else :\n",
    "            print('Not allowed. Incorrect name.')\n",
    "    \n",
    "    \n",
    "    "
   ]
  },
  {
   "cell_type": "code",
   "execution_count": 136,
   "metadata": {
    "colab": {
     "base_uri": "https://localhost:8080/"
    },
    "deletable": false,
    "editable": false,
    "executionInfo": {
     "elapsed": 3788,
     "status": "ok",
     "timestamp": 1724648193083,
     "user": {
      "displayName": "Peerawut Sakdapipanich",
      "userId": "12226163692765599744"
     },
     "user_tz": -420
    },
    "id": "FOL0kVtM_qbT",
    "nbgrader": {
     "cell_type": "code",
     "checksum": "b7b03893ed0aaf1a2af60ae612b4be37",
     "grade": false,
     "grade_id": "cell-befa13e6c82bd29b",
     "locked": true,
     "schema_version": 3,
     "solution": false,
     "task": false
    },
    "outputId": "d57f261c-3c4b-4d00-ce23-ae2cb23bcfaf"
   },
   "outputs": [
    {
     "name": "stdin",
     "output_type": "stream",
     "text": [
      "Enter username : Lisa\n"
     ]
    },
    {
     "name": "stdout",
     "output_type": "stream",
     "text": [
      "Hello, Lisa\n"
     ]
    }
   ],
   "source": [
    "'''ตรวจสอบผลลัพธ์ของโปรแกรมด้วยการรันที่ cell นี้'''\n",
    "run()"
   ]
  },
  {
   "cell_type": "code",
   "execution_count": 138,
   "metadata": {
    "deletable": false,
    "editable": false,
    "executionInfo": {
     "elapsed": 356,
     "status": "ok",
     "timestamp": 1724648194692,
     "user": {
      "displayName": "Peerawut Sakdapipanich",
      "userId": "12226163692765599744"
     },
     "user_tz": -420
    },
    "id": "xKuTcJ5g_qbT",
    "nbgrader": {
     "cell_type": "code",
     "checksum": "51309daa496029406f58e0ffe1d6e21d",
     "grade": false,
     "grade_id": "partial",
     "locked": true,
     "schema_version": 3,
     "solution": false,
     "task": false
    }
   },
   "outputs": [],
   "source": [
    "'''ตรวจสอบผลการคำนวณ'''\n",
    "from unittest.mock import patch\n",
    "from io import StringIO\n",
    "\n",
    "def test(inputs,expected_output):\n",
    "    with patch('builtins.input', side_effect=inputs), patch('sys.stdout', new_callable=StringIO) as mock_stdout:\n",
    "        run()\n",
    "        assert mock_stdout.getvalue() == expected_output,mock_stdout.getvalue()\n",
    "def test_easy_print(inputs,expected_output):\n",
    "    with patch('builtins.input', side_effect=inputs), patch('sys.stdout', new_callable=StringIO) as mock_stdout:\n",
    "        run()\n",
    "        assert expected_output in mock_stdout.getvalue(), mock_stdout.getvalue()"
   ]
  },
  {
   "cell_type": "code",
   "execution_count": 140,
   "metadata": {
    "colab": {
     "base_uri": "https://localhost:8080/"
    },
    "deletable": false,
    "editable": false,
    "executionInfo": {
     "elapsed": 598,
     "status": "ok",
     "timestamp": 1724648196859,
     "user": {
      "displayName": "Peerawut Sakdapipanich",
      "userId": "12226163692765599744"
     },
     "user_tz": -420
    },
    "id": "FETl-S2J_qbU",
    "nbgrader": {
     "cell_type": "code",
     "checksum": "7fd7a937077510c70b2319744eba46e6",
     "grade": true,
     "grade_id": "easy_print",
     "locked": true,
     "points": 1,
     "schema_version": 3,
     "solution": false,
     "task": false
    },
    "outputId": "3dc8e72c-9a7e-4525-eeb5-7122dde26210"
   },
   "outputs": [
    {
     "name": "stdout",
     "output_type": "stream",
     "text": [
      "ok\n"
     ]
    }
   ],
   "source": [
    "'''ตรวจสอบการแสดงผลลัพธ์อย่างง่าย'''\n",
    "test_easy_print(inputs=['Lisa'],expected_output='Hello, Lisa')\n",
    "print('ok')"
   ]
  },
  {
   "cell_type": "code",
   "execution_count": 142,
   "metadata": {
    "colab": {
     "base_uri": "https://localhost:8080/",
     "height": 384
    },
    "deletable": false,
    "editable": false,
    "executionInfo": {
     "elapsed": 5,
     "status": "error",
     "timestamp": 1724648198349,
     "user": {
      "displayName": "Peerawut Sakdapipanich",
      "userId": "12226163692765599744"
     },
     "user_tz": -420
    },
    "id": "gIFS6jZe_qbU",
    "nbgrader": {
     "cell_type": "code",
     "checksum": "fa45c4492c9e74b985a410e8df0329cc",
     "grade": true,
     "grade_id": "exact",
     "locked": false,
     "points": 1,
     "schema_version": 3,
     "solution": false
    },
    "outputId": "0199d658-3652-4ddd-d190-b32cee4c798e"
   },
   "outputs": [
    {
     "name": "stdout",
     "output_type": "stream",
     "text": [
      "ok\n"
     ]
    }
   ],
   "source": [
    "'''ตรวจสอบผลการคำนวณและการแสดงผลลัพธ์ให้เหมือนกับโจทย์ที่กำหนดให้'''\n",
    "test(['Lisa'],'Hello, Lisa\\n')\n",
    "test(['.','Lisa'],'Hello, Lisa\\n')\n",
    "test(['','Lisa'],'Hello, Lisa\\n')\n",
    "test(['test','Lisa'],'Hello, Lisa\\n')\n",
    "test(['Blackpink','Lisa'],'Hello, Lisa\\n')\n",
    "print('ok')"
   ]
  },
  {
   "cell_type": "code",
   "execution_count": 144,
   "metadata": {
    "colab": {
     "base_uri": "https://localhost:8080/",
     "height": 384
    },
    "deletable": false,
    "editable": false,
    "executionInfo": {
     "elapsed": 380,
     "status": "error",
     "timestamp": 1724648131524,
     "user": {
      "displayName": "Peerawut Sakdapipanich",
      "userId": "12226163692765599744"
     },
     "user_tz": -420
    },
    "id": "rT5zvO7W_qbU",
    "nbgrader": {
     "cell_type": "code",
     "checksum": "2d87ae9d2b106e91b7f6cf330b7628ca",
     "grade": true,
     "grade_id": "cell-ad91ccd55eeb0c2f",
     "locked": true,
     "points": 1,
     "schema_version": 3,
     "solution": false,
     "task": false
    },
    "outputId": "63b03a51-6ff7-4719-c8cf-9b006ff678dc"
   },
   "outputs": [
    {
     "name": "stdout",
     "output_type": "stream",
     "text": [
      "ok\n"
     ]
    }
   ],
   "source": [
    "'''ตรวจสอบผลการคำนวณและการแสดงผลลัพธ์ให้เหมือนกับโจทย์ที่กำหนดให้'''\n",
    "test(['test','12345','Lisa'],'Hello, Lisa\\n')\n",
    "test(['Rose','Jennie','Lisa'],'Hello, Lisa\\n')\n",
    "test(['Tee','Pee','Lisa'],'Hello, Lisa\\n')\n",
    "test(['Bambam','Mario','Lisa'],'Hello, Lisa\\n')\n",
    "print('ok')"
   ]
  },
  {
   "cell_type": "code",
   "execution_count": 146,
   "metadata": {
    "deletable": false,
    "editable": false,
    "id": "j_msXJdG_qbU",
    "nbgrader": {
     "cell_type": "code",
     "checksum": "ac6aee0a040323fa9b08ed58df7ef901",
     "grade": true,
     "grade_id": "cell-a07ef84aa3313800",
     "locked": true,
     "points": 1,
     "schema_version": 3,
     "solution": false,
     "task": false
    }
   },
   "outputs": [
    {
     "name": "stdout",
     "output_type": "stream",
     "text": [
      "ok\n"
     ]
    }
   ],
   "source": [
    "'''ตรวจสอบผลการคำนวณและการแสดงผลลัพธ์ให้เหมือนกับโจทย์ที่กำหนดให้'''\n",
    "test(['test','12345','my name'],'Not allowed. Incorrect name.\\n')\n",
    "test(['Bambam','Mario','Jennie'],'Not allowed. Incorrect name.\\n')\n",
    "test(['xxx','56789','Jennie'],'Not allowed. Incorrect name.\\n')\n",
    "print('ok')"
   ]
  },
  {
   "cell_type": "code",
   "execution_count": 148,
   "metadata": {
    "deletable": false,
    "editable": false,
    "id": "kxCD6mCC_qbU",
    "nbgrader": {
     "cell_type": "code",
     "checksum": "9952444af619619047681120911e0ce4",
     "grade": true,
     "grade_id": "cell-12a491ba54786d8c",
     "locked": true,
     "points": 1,
     "schema_version": 3,
     "solution": false,
     "task": false
    }
   },
   "outputs": [
    {
     "data": {
      "text/plain": [
       "'เทสลับ1'"
      ]
     },
     "execution_count": 148,
     "metadata": {},
     "output_type": "execute_result"
    }
   ],
   "source": [
    "'''เทสลับ1'''"
   ]
  },
  {
   "cell_type": "code",
   "execution_count": 150,
   "metadata": {
    "deletable": false,
    "editable": false,
    "id": "yLde8Wd7_qbU",
    "nbgrader": {
     "cell_type": "code",
     "checksum": "1bfa4d59df6b53eafb2aaba7bbdd836b",
     "grade": true,
     "grade_id": "cell-cd88328c0c75d1f4",
     "locked": true,
     "points": 1,
     "schema_version": 3,
     "solution": false,
     "task": false
    }
   },
   "outputs": [
    {
     "data": {
      "text/plain": [
       "'เทสลับ2'"
      ]
     },
     "execution_count": 150,
     "metadata": {},
     "output_type": "execute_result"
    }
   ],
   "source": [
    "'''เทสลับ2'''"
   ]
  },
  {
   "cell_type": "code",
   "execution_count": 152,
   "metadata": {
    "deletable": false,
    "editable": false,
    "id": "zbPHKrXc_qbV",
    "nbgrader": {
     "cell_type": "code",
     "checksum": "6dd395aecb07861a6fa2eca0faad6d99",
     "grade": true,
     "grade_id": "cell-dd79373738b779ba",
     "locked": true,
     "points": 1,
     "schema_version": 3,
     "solution": false,
     "task": false
    }
   },
   "outputs": [
    {
     "data": {
      "text/plain": [
       "'เทสลับ3'"
      ]
     },
     "execution_count": 152,
     "metadata": {},
     "output_type": "execute_result"
    }
   ],
   "source": [
    "'''เทสลับ3'''"
   ]
  },
  {
   "cell_type": "code",
   "execution_count": null,
   "metadata": {},
   "outputs": [],
   "source": []
  }
 ],
 "metadata": {
  "BondSan": "75afc908c8d0c702253c75a3a4c1c338184f2519d0a8092b865b653ea65d5b092f1efe884e6bb62ee6e5bc7ffd0fc4f4d07d10cea678f9b01147b81511fd2ad1153def3893373c1a5d4aa32467d5f2d1dd7bc0a2fea2f26b95f0ae8195f4476ee9a3dd18f5fdd2d028602dbccf3d1e5ac5a16925cb13c66f730016bb61f7a5d8b35faaf26300e8c19e9a591e14ef947bd7ff92fbd983ddabca4e39180c2611d796116c0af1e84df1e99444177c17c89f69ef06801db42802d8c8086cbdaf9cbc72a5eaf3bdc6a3cda9e3bc946e619bf121432915a8dc1696027fef41f6ed9cf84607da7ac413c7a3341c4615e1eedeedb53dfe577213a91c162e0004a14aec35",
  "colab": {
   "provenance": []
  },
  "kernelspec": {
   "display_name": "Python 3 (ipykernel)",
   "language": "python",
   "name": "python3"
  },
  "language_info": {
   "codemirror_mode": {
    "name": "ipython",
    "version": 3
   },
   "file_extension": ".py",
   "mimetype": "text/x-python",
   "name": "python",
   "nbconvert_exporter": "python",
   "pygments_lexer": "ipython3",
   "version": "3.12.4"
  }
 },
 "nbformat": 4,
 "nbformat_minor": 4
}
