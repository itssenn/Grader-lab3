{
 "cells": [
  {
   "cell_type": "markdown",
   "metadata": {
    "deletable": false,
    "editable": false,
    "nbgrader": {
     "cell_type": "markdown",
     "checksum": "756e984fdab11c35b26d46e618214be5",
     "grade": false,
     "grade_id": "cell-dbf37dcea5d7dc5c",
     "locked": true,
     "schema_version": 3,
     "solution": false,
     "task": false
    }
   },
   "source": [
    "## Q4\n",
    "จงเขียนโปรแกรมที่รับจำนวนนักเรียนที่เข้าสอบ (เป็นจำนวนบวกเท่านั้น) แล้ววนรับคะแนนของนักเรียนที่เข้าสอบให้ครบและหา \n",
    "- คะแนนเฉลี่ยของนักเรียนทั้งหมด\n",
    "- คะแนนเฉลี่ยของนักเรียนที่สอบผ่าน (ได้คะแนนอย่างน้อย 5)\n",
    "- คะแนนเฉลี่ยของนักเรียนที่สอบไม่ผ่าน (ได้คะแนนต่ำกว่า 5)\n",
    "- คะแนนสูงสุดของนักเรียนทั้งหมด"
   ]
  },
  {
   "cell_type": "markdown",
   "metadata": {
    "deletable": false,
    "editable": false,
    "nbgrader": {
     "cell_type": "markdown",
     "checksum": "868e05360256a8967d8de23c9df9c9b6",
     "grade": false,
     "grade_id": "cell-679ab39eeac1b48a",
     "locked": true,
     "schema_version": 3,
     "solution": false,
     "task": false
    }
   },
   "source": [
    "### ตัวอย่างการทำงาน: \n",
    "\n",
    "Number of students : **3** <br>\n",
    "Student 1 : **10** <br>\n",
    "Student 2 : **6.5** <br>\n",
    "Student 3 : **0** <br>\n",
    "Average score : 5.5 <br>\n",
    "Average passing score : 8.25 <br>\n",
    "Average failing score : 0.0 <br>\n",
    "Highest score : 10.0 <br>"
   ]
  },
  {
   "cell_type": "markdown",
   "metadata": {
    "deletable": false,
    "editable": false,
    "nbgrader": {
     "cell_type": "markdown",
     "checksum": "568123a806242a59c64bceb93539df37",
     "grade": false,
     "grade_id": "cell-7ae57c7b0fc2869d",
     "locked": true,
     "schema_version": 3,
     "solution": false,
     "task": false
    }
   },
   "source": [
    "### ตัวอย่างการทำงาน: \n",
    "\n",
    "Number of students : **5** <br>\n",
    "Student 1 : **10** <br>\n",
    "Student 2 : **6.5** <br>\n",
    "Student 3 : **0** <br>\n",
    "Student 4 : **9** <br>\n",
    "Student 5 : **8.25** <br>\n",
    "Average score : 6.75 <br>\n",
    "Average passing score : 8.4375<br>\n",
    "Average failing score : 0.0 <br>\n",
    "Highest score : 10.0"
   ]
  },
  {
   "cell_type": "markdown",
   "metadata": {
    "deletable": false,
    "editable": false,
    "nbgrader": {
     "cell_type": "markdown",
     "checksum": "de2963229ce91e197e9e10ea7ede0f87",
     "grade": false,
     "grade_id": "cell-400409b302bb64e5",
     "locked": true,
     "schema_version": 3,
     "solution": false,
     "task": false
    }
   },
   "source": [
    "### ตัวอย่างการทำงาน: \n",
    "\n",
    "Number of students : **7** <br>\n",
    "Student 1 : **9** <br>\n",
    "Student 2 : **6.5** <br>\n",
    "Student 3 : **0** <br>\n",
    "Student 4 : **10** <br>\n",
    "Student 5 : **8.25** <br>\n",
    "Student 6 : **9.50** <br>\n",
    "Student 7 : **7.25** <br>\n",
    "Average score : 7.214285714285714 <br>\n",
    "Average passing score : 8.416666666666666 <br>\n",
    "Average failing score : 0.0 <br>\n",
    "Highest score : 10.0 <br>"
   ]
  },
  {
   "cell_type": "markdown",
   "metadata": {
    "deletable": false,
    "editable": false,
    "nbgrader": {
     "cell_type": "markdown",
     "checksum": "5c4c33732cdd3e64e1032eef112412bf",
     "grade": false,
     "grade_id": "cell-41c8a13433b77612",
     "locked": true,
     "schema_version": 3,
     "solution": false,
     "task": false
    }
   },
   "source": [
    "### ตัวอย่างการทำงาน: \n",
    "\n",
    "Number of students : **-1** <br>\n",
    "Incorrect Input. Number of students : **7** <br>\n",
    "Student 1 : **10** <br>\n",
    "Student 2 : **6.5** <br>\n",
    "Student 3 : **0** <br>\n",
    "Student 4 : **9** <br>\n",
    "Student 5 : **8.25** <br>\n",
    "Student 6 : **9.50** <br>\n",
    "Student 7 : **7.25** <br>\n",
    "Average score : 7.214285714285714 <br>\n",
    "Average passing score : 8.416666666666666 <br>\n",
    "Average failing score : 0.0 <br>\n",
    "Highest score : 10.0 <br>"
   ]
  },
  {
   "cell_type": "markdown",
   "metadata": {
    "deletable": false,
    "editable": false,
    "nbgrader": {
     "cell_type": "markdown",
     "checksum": "3e62b97d0d50083ebd312f348131b686",
     "grade": false,
     "grade_id": "cell-2f0e971620dd1b4a",
     "locked": true,
     "schema_version": 3,
     "solution": false,
     "task": false
    }
   },
   "source": [
    "### ตัวอย่างการทำงาน: \n",
    "\n",
    "Number of students : **3** <br>\n",
    "Student 1 : **6** <br>\n",
    "Student 2 : **5.5** <br>\n",
    "Student 3 : **9.8** <br>\n",
    "Average score : 7.1000000000000005 <br>\n",
    "Average passing score : 7.1000000000000005 <br>\n",
    "Average failing score : No student failed <br>\n",
    "Highest score : 9.8 <br>"
   ]
  },
  {
   "cell_type": "markdown",
   "metadata": {},
   "source": [
    "### ตัวอย่างการทำงาน: \n",
    "\n",
    "Number of students : **3** <br>\n",
    "Student 1 : **1** <br>\n",
    "Student 2 : **2.5** <br>\n",
    "Student 3 : **3.5** <br>\n",
    "Average score : 2.3333333333333335 <br>\n",
    "Average passing score : No student passed <br>\n",
    "Average failing score : 2.3333333333333335 <br>\n",
    "Highest score : 3.5 <br>"
   ]
  },
  {
   "cell_type": "code",
   "execution_count": 2,
   "metadata": {
    "deletable": false,
    "nbgrader": {
     "cell_type": "code",
     "checksum": "b200d6e6b1dcb53db9c7782614ea5d49",
     "grade": false,
     "grade_id": "name",
     "locked": false,
     "schema_version": 3,
     "solution": true
    }
   },
   "outputs": [],
   "source": [
    "def run():\n",
    "    n = int(input('Number of students :'))\n",
    "    total = 0\n",
    "    pss = 0\n",
    "    p = 0\n",
    "    fail = 0\n",
    "    f = 0\n",
    "    high = 0\n",
    "    \n",
    "    while n <= 0 :\n",
    "        n = int(input('Incorrect Input. Number of students :'))\n",
    "    if n > 0 :\n",
    "        for i in range(1,n+1) :\n",
    "            score = float(input(f'Student {i} :'))\n",
    "            if 10 >= score >= 5 :\n",
    "                pss = pss + score\n",
    "                p += 1\n",
    "            if 0 <= score < 5 :\n",
    "                fail = fail + score\n",
    "                f += 1\n",
    "            if score > high :\n",
    "                high = score\n",
    "                \n",
    "            total = total + score\n",
    "\n",
    "        print(f'Average score : {total/n}')\n",
    "        if p == 0 :\n",
    "            print('Average passing score : No student passed')\n",
    "        else :\n",
    "            print(f'Average passing score : {pss / p}')\n",
    "        if f == 0 :\n",
    "            print('Average failing score : No student failed')\n",
    "        else :\n",
    "            print(f'Average failing score : {fail / f}')\n",
    "        print(f'Highest score : {high}')\n",
    "            \n",
    "                \n",
    "            "
   ]
  },
  {
   "cell_type": "code",
   "execution_count": 4,
   "metadata": {
    "deletable": false,
    "editable": false,
    "nbgrader": {
     "cell_type": "code",
     "checksum": "b7b03893ed0aaf1a2af60ae612b4be37",
     "grade": false,
     "grade_id": "cell-befa13e6c82bd29b",
     "locked": true,
     "schema_version": 3,
     "solution": false,
     "task": false
    }
   },
   "outputs": [
    {
     "name": "stdin",
     "output_type": "stream",
     "text": [
      "Number of students : a\n"
     ]
    },
    {
     "ename": "ValueError",
     "evalue": "invalid literal for int() with base 10: 'a'",
     "output_type": "error",
     "traceback": [
      "\u001b[0;31m---------------------------------------------------------------------------\u001b[0m",
      "\u001b[0;31mValueError\u001b[0m                                Traceback (most recent call last)",
      "Cell \u001b[0;32mIn[4], line 2\u001b[0m\n\u001b[1;32m      1\u001b[0m \u001b[38;5;124;03m'''ตรวจสอบผลลัพธ์ของโปรแกรมด้วยการรันที่ cell นี้'''\u001b[39;00m\n\u001b[0;32m----> 2\u001b[0m run()\n",
      "Cell \u001b[0;32mIn[2], line 2\u001b[0m, in \u001b[0;36mrun\u001b[0;34m()\u001b[0m\n\u001b[1;32m      1\u001b[0m \u001b[38;5;28;01mdef\u001b[39;00m \u001b[38;5;21mrun\u001b[39m():\n\u001b[0;32m----> 2\u001b[0m     n \u001b[38;5;241m=\u001b[39m \u001b[38;5;28mint\u001b[39m(\u001b[38;5;28minput\u001b[39m(\u001b[38;5;124m'\u001b[39m\u001b[38;5;124mNumber of students :\u001b[39m\u001b[38;5;124m'\u001b[39m))\n\u001b[1;32m      3\u001b[0m     total \u001b[38;5;241m=\u001b[39m \u001b[38;5;241m0\u001b[39m\n\u001b[1;32m      4\u001b[0m     pss \u001b[38;5;241m=\u001b[39m \u001b[38;5;241m0\u001b[39m\n",
      "\u001b[0;31mValueError\u001b[0m: invalid literal for int() with base 10: 'a'"
     ]
    }
   ],
   "source": [
    "'''ตรวจสอบผลลัพธ์ของโปรแกรมด้วยการรันที่ cell นี้'''\n",
    "run()"
   ]
  },
  {
   "cell_type": "code",
   "execution_count": 30,
   "metadata": {
    "deletable": false,
    "editable": false,
    "nbgrader": {
     "cell_type": "code",
     "checksum": "51309daa496029406f58e0ffe1d6e21d",
     "grade": false,
     "grade_id": "partial",
     "locked": true,
     "schema_version": 3,
     "solution": false,
     "task": false
    }
   },
   "outputs": [],
   "source": [
    "'''ตรวจสอบผลการคำนวณ'''\n",
    "from unittest.mock import patch\n",
    "from io import StringIO\n",
    "\n",
    "def test(inputs,expected_output): \n",
    "    with patch('builtins.input', side_effect=inputs), patch('sys.stdout', new_callable=StringIO) as mock_stdout:\n",
    "        run()\n",
    "        assert mock_stdout.getvalue() == expected_output,mock_stdout.getvalue()\n",
    "def test_easy_print(inputs,expected_output):\n",
    "    with patch('builtins.input', side_effect=inputs), patch('sys.stdout', new_callable=StringIO) as mock_stdout:\n",
    "        run()\n",
    "        assert expected_output in mock_stdout.getvalue(), mock_stdout.getvalue()"
   ]
  },
  {
   "cell_type": "code",
   "execution_count": 32,
   "metadata": {
    "deletable": false,
    "editable": false,
    "nbgrader": {
     "cell_type": "code",
     "checksum": "85dfa78773b6556747e84470c031698f",
     "grade": true,
     "grade_id": "easy_print",
     "locked": true,
     "points": 1,
     "schema_version": 3,
     "solution": false,
     "task": false
    }
   },
   "outputs": [
    {
     "name": "stdout",
     "output_type": "stream",
     "text": [
      "ok\n"
     ]
    }
   ],
   "source": [
    "'''ตรวจสอบการแสดงผลลัพธ์อย่างง่าย'''\n",
    "test_easy_print(inputs=['3','10','6.5','0'],expected_output='Average')\n",
    "print('ok')"
   ]
  },
  {
   "cell_type": "code",
   "execution_count": 34,
   "metadata": {
    "deletable": false,
    "editable": false,
    "nbgrader": {
     "cell_type": "code",
     "checksum": "d7d7f2cb771d85de3e9b0fbebf2f847f",
     "grade": true,
     "grade_id": "cell-5646d4ae088951fe",
     "locked": true,
     "points": 1,
     "schema_version": 3,
     "solution": false,
     "task": false
    }
   },
   "outputs": [
    {
     "name": "stdout",
     "output_type": "stream",
     "text": [
      "ok\n"
     ]
    }
   ],
   "source": [
    "'''ตรวจสอบผลการคำนวณและการแสดงผลลัพธ์ให้เหมือนกับโจทย์ที่กำหนดให้'''\n",
    "'''Number of students is 3'''\n",
    "test(['3','10','6.5','0'],'Average score : 5.5\\nAverage passing score : 8.25\\nAverage failing score : 0.0\\nHighest score : 10.0\\n') \n",
    "test(['3','7','4','9'],'Average score : 6.666666666666667\\nAverage passing score : 8.0\\nAverage failing score : 4.0\\nHighest score : 9.0\\n') \n",
    "test(['3','6','5.5','9.8'],'Average score : 7.1000000000000005\\nAverage passing score : 7.1000000000000005\\nAverage failing score : No student failed\\nHighest score : 9.8\\n') \n",
    "test(['3','1.5','4.5','6.5'],'Average score : 4.166666666666667\\nAverage passing score : 6.5\\nAverage failing score : 3.0\\nHighest score : 6.5\\n')\n",
    "print('ok')"
   ]
  },
  {
   "cell_type": "code",
   "execution_count": 36,
   "metadata": {
    "deletable": false,
    "editable": false,
    "nbgrader": {
     "cell_type": "code",
     "checksum": "d449cbae5c9a3bb50fdc0516edb6e305",
     "grade": true,
     "grade_id": "exact",
     "locked": false,
     "points": 1,
     "schema_version": 3,
     "solution": false
    }
   },
   "outputs": [
    {
     "name": "stdout",
     "output_type": "stream",
     "text": [
      "ok\n"
     ]
    }
   ],
   "source": [
    "'''ตรวจสอบผลการคำนวณและการแสดงผลลัพธ์ให้เหมือนกับโจทย์ที่กำหนดให้'''\n",
    "'''Number of students is 5'''\n",
    "test(['5','10','6.5','0','9','8.25'],'Average score : 6.75\\nAverage passing score : 8.4375\\nAverage failing score : 0.0\\nHighest score : 10.0\\n') \n",
    "test(['5','6','8','9','4','10'],'Average score : 7.4\\nAverage passing score : 8.25\\nAverage failing score : 4.0\\nHighest score : 10.0\\n') \n",
    "test(['5','4.25','6.25','1.25','8.75','9.25'],'Average score : 5.95\\nAverage passing score : 8.083333333333334\\nAverage failing score : 2.75\\nHighest score : 9.25\\n') \n",
    "test(['5','4.25','1','0','8.75','9.25'],'Average score : 4.65\\nAverage passing score : 9.0\\nAverage failing score : 1.75\\nHighest score : 9.25\\n')\n",
    "print('ok')"
   ]
  },
  {
   "cell_type": "code",
   "execution_count": 38,
   "metadata": {
    "deletable": false,
    "editable": false,
    "nbgrader": {
     "cell_type": "code",
     "checksum": "d3869d119c39130b42275b37a7eccea2",
     "grade": true,
     "grade_id": "cell-cbc47179f27fefee",
     "locked": true,
     "points": 1,
     "schema_version": 3,
     "solution": false,
     "task": false
    }
   },
   "outputs": [
    {
     "name": "stdout",
     "output_type": "stream",
     "text": [
      "ok\n"
     ]
    }
   ],
   "source": [
    "'''ตรวจสอบผลการคำนวณและการแสดงผลลัพธ์ให้เหมือนกับโจทย์ที่กำหนดให้'''\n",
    "'''Number of students is 7'''\n",
    "test(['7','10','6.5','0','9','8.25','9.50','7.25'],'Average score : 7.214285714285714\\nAverage passing score : 8.416666666666666\\nAverage failing score : 0.0\\nHighest score : 10.0\\n') \n",
    "test(['7','4.25','6.25','1.25','8.75','9.25','7.25','9.75'],'Average score : 6.678571428571429\\nAverage passing score : 8.25\\nAverage failing score : 2.75\\nHighest score : 9.75\\n') \n",
    "test(['7','6','8','9','4','10','3','4'],'Average score : 6.285714285714286\\nAverage passing score : 8.25\\nAverage failing score : 3.6666666666666665\\nHighest score : 10.0\\n')\n",
    "print('ok')"
   ]
  },
  {
   "cell_type": "code",
   "execution_count": 40,
   "metadata": {
    "deletable": false,
    "editable": false,
    "nbgrader": {
     "cell_type": "code",
     "checksum": "826b1c33383e831b2a4017a748dcf0c0",
     "grade": true,
     "grade_id": "cell-f6917d088df9d576",
     "locked": true,
     "points": 1,
     "schema_version": 3,
     "solution": false,
     "task": false
    }
   },
   "outputs": [
    {
     "name": "stdout",
     "output_type": "stream",
     "text": [
      "ok\n"
     ]
    }
   ],
   "source": [
    "'''ตรวจสอบเคส inputs ติด ลบ'''\n",
    "test(['-1','7','10','6.5','0','9','8.25','9.50','7.25'],'Average score : 7.214285714285714\\nAverage passing score : 8.416666666666666\\nAverage failing score : 0.0\\nHighest score : 10.0\\n') \n",
    "test(['-7','-1','7','4.25','6.25','1.25','8.75','9.25','7.25','9.75'],'Average score : 6.678571428571429\\nAverage passing score : 8.25\\nAverage failing score : 2.75\\nHighest score : 9.75\\n')\n",
    "print('ok')"
   ]
  },
  {
   "cell_type": "code",
   "execution_count": 42,
   "metadata": {
    "deletable": false,
    "editable": false,
    "nbgrader": {
     "cell_type": "code",
     "checksum": "889bc5c8b03535becb06f0c08fcfc778",
     "grade": true,
     "grade_id": "cell-cb70be9f8c5d23dc",
     "locked": true,
     "points": 1,
     "schema_version": 3,
     "solution": false,
     "task": false
    }
   },
   "outputs": [
    {
     "data": {
      "text/plain": [
       "'เทสลับ1'"
      ]
     },
     "execution_count": 42,
     "metadata": {},
     "output_type": "execute_result"
    }
   ],
   "source": [
    "'''เทสลับ1'''"
   ]
  },
  {
   "cell_type": "code",
   "execution_count": 44,
   "metadata": {
    "deletable": false,
    "editable": false,
    "nbgrader": {
     "cell_type": "code",
     "checksum": "1a91e366b60cae9ca354d2b388670590",
     "grade": true,
     "grade_id": "cell-04f03e303c25f48c",
     "locked": true,
     "points": 1,
     "schema_version": 3,
     "solution": false,
     "task": false
    }
   },
   "outputs": [
    {
     "data": {
      "text/plain": [
       "'เทสลับ2'"
      ]
     },
     "execution_count": 44,
     "metadata": {},
     "output_type": "execute_result"
    }
   ],
   "source": [
    "'''เทสลับ2'''"
   ]
  },
  {
   "cell_type": "code",
   "execution_count": 46,
   "metadata": {
    "deletable": false,
    "editable": false,
    "nbgrader": {
     "cell_type": "code",
     "checksum": "55f04042d3837fdaac8e3e323942fc47",
     "grade": true,
     "grade_id": "cell-9822de1c0606dd27",
     "locked": true,
     "points": 1,
     "schema_version": 3,
     "solution": false,
     "task": false
    }
   },
   "outputs": [
    {
     "data": {
      "text/plain": [
       "'เทสลับ3'"
      ]
     },
     "execution_count": 46,
     "metadata": {},
     "output_type": "execute_result"
    }
   ],
   "source": [
    "'''เทสลับ3'''"
   ]
  },
  {
   "cell_type": "code",
   "execution_count": 48,
   "metadata": {
    "deletable": false,
    "editable": false,
    "nbgrader": {
     "cell_type": "code",
     "checksum": "4c6f8a870f9f1dd7dbe511e973c7efed",
     "grade": true,
     "grade_id": "cell-a2bb4decb259fcda",
     "locked": true,
     "points": 1,
     "schema_version": 3,
     "solution": false,
     "task": false
    }
   },
   "outputs": [
    {
     "data": {
      "text/plain": [
       "'เทสลับ4'"
      ]
     },
     "execution_count": 48,
     "metadata": {},
     "output_type": "execute_result"
    }
   ],
   "source": [
    "'''เทสลับ4'''"
   ]
  },
  {
   "cell_type": "code",
   "execution_count": null,
   "metadata": {},
   "outputs": [],
   "source": []
  }
 ],
 "metadata": {
  "BondSan": "2ec2075d6e9b535793725babcef6c3f3981b7c56c5503074a407081fa1cb383e2bf8444a629f507a0b203654c0285c0a7beb904c2a73a101f7efdbd389c69da10b1b501276f8ada78a06c77511c3f09a3c0500421fc657aa18fdf26c47a493dae9eea9eaf83a7a011ea3f2fe1ea6581941a8e10fc642e0874a9c495e91f2632e50ccef262c9bc32fbd7b61e54c9cef4dfe244f9170c73d1bc19ab35f9fc750939c8f21d735b11e1f5ee5073eeb5655c703d653ec78816f089629b7da4001ad4bde6319a3f8e7cae0a495b418b5de3303a96e35dd6cd9eb3a50aa5c646339420de5aa59e05ad1e99596896a0ec9a8ba3bd0a48d89294f938465a465f055848832",
  "kernelspec": {
   "display_name": "Python 3 (ipykernel)",
   "language": "python",
   "name": "python3"
  },
  "language_info": {
   "codemirror_mode": {
    "name": "ipython",
    "version": 3
   },
   "file_extension": ".py",
   "mimetype": "text/x-python",
   "name": "python",
   "nbconvert_exporter": "python",
   "pygments_lexer": "ipython3",
   "version": "3.12.4"
  }
 },
 "nbformat": 4,
 "nbformat_minor": 4
}
