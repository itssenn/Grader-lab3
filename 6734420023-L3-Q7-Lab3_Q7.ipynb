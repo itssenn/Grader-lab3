{
 "cells": [
  {
   "cell_type": "markdown",
   "metadata": {
    "deletable": false,
    "editable": false,
    "nbgrader": {
     "cell_type": "markdown",
     "checksum": "61573b3544bf2fbc3425ea7a8589ac47",
     "grade": false,
     "grade_id": "cell-dbf37dcea5d7dc5c",
     "locked": true,
     "schema_version": 3,
     "solution": false,
     "task": false
    }
   },
   "source": [
    "## Q7\n",
    "จงเขียนโปรแกรมที่วนรับอุณหภูมิสูงสุดของแต่ละวันในหนึ่งสัปดาห์ แล้วแสดงว่าวันใดมีอุณหภูมิลดลงจากวันก่อนหน้า"
   ]
  },
  {
   "cell_type": "markdown",
   "metadata": {
    "deletable": false,
    "editable": false,
    "nbgrader": {
     "cell_type": "markdown",
     "checksum": "138d7870c12e3e77775952354969a951",
     "grade": false,
     "grade_id": "cell-941573f39dc645a7",
     "locked": true,
     "schema_version": 3,
     "solution": false,
     "task": false
    }
   },
   "source": [
    "### ตัวอย่างการทำงาน:\n",
    "\n",
    "Day 1 : **32.6** <br>\n",
    "Day 2 : **34.4** <br>\n",
    "Day 3 : **35.0** <br>\n",
    "Day 4 : **34.6** <br>\n",
    "Temperature dropped on day 4 <br>\n",
    "Day 5 : **35.0** <br>\n",
    "Day 6 : **35.6** <br>\n",
    "Day 7 : **36** <br>"
   ]
  },
  {
   "cell_type": "markdown",
   "metadata": {
    "deletable": false,
    "editable": false,
    "nbgrader": {
     "cell_type": "markdown",
     "checksum": "a41b2fdbaecb0cf94b33883ea2a119fe",
     "grade": false,
     "grade_id": "cell-ba4526b034884cc7",
     "locked": true,
     "schema_version": 3,
     "solution": false,
     "task": false
    }
   },
   "source": [
    "### ตัวอย่างการทำงาน: \n",
    "\n",
    "Day 1 : **32.6** <br>\n",
    "Day 2 : **34.4** <br>\n",
    "Day 3 : **35.0** <br>\n",
    "Day 4 : **34.6** <br>\n",
    "Temperature dropped on day 4 <br>\n",
    "Day 5 : **35.2** <br>\n",
    "Day 6 : **35.6** <br>\n",
    "Day 7 : **34** <br>\n",
    "Temperature dropped on day 7"
   ]
  },
  {
   "cell_type": "markdown",
   "metadata": {
    "deletable": false,
    "editable": false,
    "nbgrader": {
     "cell_type": "markdown",
     "checksum": "eb4f9a443b31a2c1fa8302d8fafc5795",
     "grade": false,
     "grade_id": "cell-679ab39eeac1b48a",
     "locked": true,
     "schema_version": 3,
     "solution": false,
     "task": false
    }
   },
   "source": [
    "### ตัวอย่างการทำงาน: \n",
    "\n",
    "Day 1 : **32.6** <br>\n",
    "Day 2 : **34.4** <br>\n",
    "Day 3 : **35.0** <br>\n",
    "Day 4 : **34.6** <br>\n",
    "Temperature dropped on day 4 <br>\n",
    "Day 5 : **34.0** <br>\n",
    "Temperature dropped on day 5 <br>\n",
    "Day 6 : **35.6** <br>\n",
    "Day 7 : **34** <br>\n",
    "Temperature dropped on day 7"
   ]
  },
  {
   "cell_type": "code",
   "execution_count": 14,
   "metadata": {
    "deletable": false,
    "nbgrader": {
     "cell_type": "code",
     "checksum": "1b9d6a43210314c09c650d2c13fecad0",
     "grade": false,
     "grade_id": "temp",
     "locked": false,
     "schema_version": 3,
     "solution": true
    }
   },
   "outputs": [],
   "source": [
    "def run():\n",
    "    x = 0\n",
    "    for i in range(1,8) :\n",
    "        temp = float(input(f'Day {i} :'))\n",
    "        if temp >= x :\n",
    "            x = temp \n",
    "        else :\n",
    "            print(f'Temperature dropped on day {i}')\n",
    "            x = temp\n",
    "        "
   ]
  },
  {
   "cell_type": "code",
   "execution_count": 16,
   "metadata": {
    "deletable": false,
    "editable": false,
    "nbgrader": {
     "cell_type": "code",
     "checksum": "b7b03893ed0aaf1a2af60ae612b4be37",
     "grade": false,
     "grade_id": "cell-befa13e6c82bd29b",
     "locked": true,
     "schema_version": 3,
     "solution": false,
     "task": false
    }
   },
   "outputs": [
    {
     "name": "stdin",
     "output_type": "stream",
     "text": [
      "Day 1 : 32.6\n",
      "Day 2 : 34.4\n",
      "Day 3 : 35.0\n",
      "Day 4 : 34.6\n"
     ]
    },
    {
     "name": "stdout",
     "output_type": "stream",
     "text": [
      "Temperature dropped on day 4\n"
     ]
    },
    {
     "name": "stdin",
     "output_type": "stream",
     "text": [
      "Day 5 : 34.0\n"
     ]
    },
    {
     "name": "stdout",
     "output_type": "stream",
     "text": [
      "Temperature dropped on day 5\n"
     ]
    },
    {
     "name": "stdin",
     "output_type": "stream",
     "text": [
      "Day 6 : 35.6\n",
      "Day 7 : 34\n"
     ]
    },
    {
     "name": "stdout",
     "output_type": "stream",
     "text": [
      "Temperature dropped on day 7\n"
     ]
    }
   ],
   "source": [
    "'''ตรวจสอบผลลัพธ์ของโปรแกรมด้วยการรันที่ cell นี้'''\n",
    "run()"
   ]
  },
  {
   "cell_type": "code",
   "execution_count": 18,
   "metadata": {
    "deletable": false,
    "editable": false,
    "nbgrader": {
     "cell_type": "code",
     "checksum": "51309daa496029406f58e0ffe1d6e21d",
     "grade": false,
     "grade_id": "partial",
     "locked": true,
     "schema_version": 3,
     "solution": false,
     "task": false
    }
   },
   "outputs": [],
   "source": [
    "'''ตรวจสอบผลการคำนวณ'''\n",
    "from unittest.mock import patch\n",
    "from io import StringIO\n",
    "\n",
    "def test(inputs,expected_output): \n",
    "    with patch('builtins.input', side_effect=inputs), patch('sys.stdout', new_callable=StringIO) as mock_stdout:\n",
    "        run()\n",
    "        assert mock_stdout.getvalue() == expected_output,mock_stdout.getvalue()\n",
    "def test_easy_print(inputs,expected_output):\n",
    "    with patch('builtins.input', side_effect=inputs), patch('sys.stdout', new_callable=StringIO) as mock_stdout:\n",
    "        run()\n",
    "        assert expected_output in mock_stdout.getvalue(), mock_stdout.getvalue()"
   ]
  },
  {
   "cell_type": "code",
   "execution_count": 20,
   "metadata": {
    "deletable": false,
    "editable": false,
    "nbgrader": {
     "cell_type": "code",
     "checksum": "0d35df8d79c30a7652c42d6e6cd90d1e",
     "grade": true,
     "grade_id": "easy_print",
     "locked": true,
     "points": 1,
     "schema_version": 3,
     "solution": false,
     "task": false
    }
   },
   "outputs": [
    {
     "name": "stdout",
     "output_type": "stream",
     "text": [
      "ok\n"
     ]
    }
   ],
   "source": [
    "'''ตรวจสอบการแสดงผลลัพธ์อย่างง่าย'''\n",
    "test_easy_print(inputs=['32.6','34.4','35.0','34.6','35','35.6','36'],expected_output='Temperature')\n",
    "print('ok')"
   ]
  },
  {
   "cell_type": "code",
   "execution_count": 22,
   "metadata": {
    "deletable": false,
    "editable": false,
    "nbgrader": {
     "cell_type": "code",
     "checksum": "9678dfd5350519cb026386c8b4378f6c",
     "grade": true,
     "grade_id": "cell-cbc47179f27fefee",
     "locked": true,
     "points": 1,
     "schema_version": 3,
     "solution": false,
     "task": false
    }
   },
   "outputs": [
    {
     "name": "stdout",
     "output_type": "stream",
     "text": [
      "ok\n"
     ]
    }
   ],
   "source": [
    "'''ตรวจสอบผลการคำนวณและการแสดงผลลัพธ์ให้เหมือนกับโจทย์ที่กำหนดให้'''\n",
    "'''Drop 1 days'''\n",
    "test(['32.6','34.4','35.0','34.6','35','35.6','36'],'Temperature dropped on day 4\\n') \n",
    "test(['32.6','31.4','35.0','35.6','35.8','35.9','36'],'Temperature dropped on day 2\\n') \n",
    "test(['32.6','33.4','35.0','35.6','35.8','35.9','34'],'Temperature dropped on day 7\\n')\n",
    "print('ok')"
   ]
  },
  {
   "cell_type": "code",
   "execution_count": 24,
   "metadata": {
    "deletable": false,
    "editable": false,
    "nbgrader": {
     "cell_type": "code",
     "checksum": "44b4d7bb540ca85f9c58d8745926ba69",
     "grade": true,
     "grade_id": "exact",
     "locked": false,
     "points": 1,
     "schema_version": 3,
     "solution": false
    }
   },
   "outputs": [
    {
     "name": "stdout",
     "output_type": "stream",
     "text": [
      "ok\n"
     ]
    }
   ],
   "source": [
    "'''ตรวจสอบผลการคำนวณและการแสดงผลลัพธ์ให้เหมือนกับโจทย์ที่กำหนดให้'''\n",
    "'''Drop 2 days'''\n",
    "test(['32.6','34.4','35.0','34.6','35.2','35.6','34'],'Temperature dropped on day 4\\nTemperature dropped on day 7\\n') \n",
    "test(['33.6','34.4','32.0','35.6','37.2','31.6','35'],'Temperature dropped on day 3\\nTemperature dropped on day 6\\n') \n",
    "test(['43.6','40.4','42.0','45.6','30.2','31.6','35'],'Temperature dropped on day 2\\nTemperature dropped on day 5\\n')\n",
    "print('ok')"
   ]
  },
  {
   "cell_type": "code",
   "execution_count": 26,
   "metadata": {
    "deletable": false,
    "editable": false,
    "nbgrader": {
     "cell_type": "code",
     "checksum": "5ed2ace024a1de2b519b92f681188ab2",
     "grade": true,
     "grade_id": "cell-5646d4ae088951fe",
     "locked": true,
     "points": 1,
     "schema_version": 3,
     "solution": false,
     "task": false
    }
   },
   "outputs": [
    {
     "name": "stdout",
     "output_type": "stream",
     "text": [
      "ok\n"
     ]
    }
   ],
   "source": [
    "'''ตรวจสอบผลการคำนวณและการแสดงผลลัพธ์ให้เหมือนกับโจทย์ที่กำหนดให้'''\n",
    "'''Drop 3 days'''\n",
    "test(['32.6','34.4','35.0','34.6','34','35.6','34'],'Temperature dropped on day 4\\nTemperature dropped on day 5\\nTemperature dropped on day 7\\n') \n",
    "test(['43.6','40.4','39.0','45.6','30.2','31.6','35'],'Temperature dropped on day 2\\nTemperature dropped on day 3\\nTemperature dropped on day 5\\n')\n",
    "test(['33.6','34.4','32.0','31.5','37.2','31.6','35'],'Temperature dropped on day 3\\nTemperature dropped on day 4\\nTemperature dropped on day 6\\n') \n",
    "test(['45','45','45','45','45','45','45'],'')\n",
    "print('ok')"
   ]
  },
  {
   "cell_type": "code",
   "execution_count": 28,
   "metadata": {
    "deletable": false,
    "editable": false,
    "nbgrader": {
     "cell_type": "code",
     "checksum": "08708934887a0cfc8b7f88919bdd1e17",
     "grade": true,
     "grade_id": "cell-4cf323a44b865e68",
     "locked": true,
     "points": 1,
     "schema_version": 3,
     "solution": false,
     "task": false
    }
   },
   "outputs": [
    {
     "data": {
      "text/plain": [
       "'เทสลับ1'"
      ]
     },
     "execution_count": 28,
     "metadata": {},
     "output_type": "execute_result"
    }
   ],
   "source": [
    "'''เทสลับ1'''"
   ]
  },
  {
   "cell_type": "code",
   "execution_count": 30,
   "metadata": {
    "deletable": false,
    "editable": false,
    "nbgrader": {
     "cell_type": "code",
     "checksum": "50327776d49e612f0830171592754c23",
     "grade": true,
     "grade_id": "cell-287fa2644c308eb2",
     "locked": true,
     "points": 1,
     "schema_version": 3,
     "solution": false,
     "task": false
    }
   },
   "outputs": [
    {
     "data": {
      "text/plain": [
       "'เทสลับ2'"
      ]
     },
     "execution_count": 30,
     "metadata": {},
     "output_type": "execute_result"
    }
   ],
   "source": [
    "'''เทสลับ2'''"
   ]
  },
  {
   "cell_type": "code",
   "execution_count": 32,
   "metadata": {
    "deletable": false,
    "editable": false,
    "nbgrader": {
     "cell_type": "code",
     "checksum": "a3c43622dcdf56d51fa4d0918709518e",
     "grade": true,
     "grade_id": "cell-882df26a5bf4ad20",
     "locked": true,
     "points": 1,
     "schema_version": 3,
     "solution": false,
     "task": false
    }
   },
   "outputs": [
    {
     "data": {
      "text/plain": [
       "'เทสลับ3'"
      ]
     },
     "execution_count": 32,
     "metadata": {},
     "output_type": "execute_result"
    }
   ],
   "source": [
    "'''เทสลับ3'''"
   ]
  },
  {
   "cell_type": "code",
   "execution_count": null,
   "metadata": {},
   "outputs": [],
   "source": []
  }
 ],
 "metadata": {
  "BondSan": "04f9845478d30038fde5c85e6f5a30d909397f80c5522be20d1a09eb3b8954de42c8b0d3e6a8f17e95ce40d353773ec1a572ea2831ed2452598e40830b5cb241488456f7f4a66c1c5244dc1c2cdf78b3efe2bcf1f25661533028a2183b6f2c8e5894157f94b8b31c15d4b99a300015953f9ac733f2567b23dc1817e18f70b617901ec31056f8c307b494306d6367530cb92d030b70e8f6f9f93e41111900194089ca9e6dfd3a456bcd46b02df6f77d5f91414d3c64e6fc1824df9b6fbbfc12afa76424f657ba77db2df88860ed6c7883045078826633a61d3ecf5f813bfe288f4b527ac2329fdfc9dd42eb9d445195b20cc05699956253884ee0edcf027887f3",
  "kernelspec": {
   "display_name": "Python 3 (ipykernel)",
   "language": "python",
   "name": "python3"
  },
  "language_info": {
   "codemirror_mode": {
    "name": "ipython",
    "version": 3
   },
   "file_extension": ".py",
   "mimetype": "text/x-python",
   "name": "python",
   "nbconvert_exporter": "python",
   "pygments_lexer": "ipython3",
   "version": "3.12.4"
  }
 },
 "nbformat": 4,
 "nbformat_minor": 4
}
